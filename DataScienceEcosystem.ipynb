{
  "nbformat": 4,
  "nbformat_minor": 0,
  "metadata": {
    "colab": {
      "provenance": [],
      "authorship_tag": "ABX9TyPSupwxB2KX1KqO8F7nVaHv",
      "include_colab_link": true
    },
    "kernelspec": {
      "name": "python3",
      "display_name": "Python 3"
    },
    "language_info": {
      "name": "python"
    }
  },
  "cells": [
    {
      "cell_type": "markdown",
      "metadata": {
        "id": "view-in-github",
        "colab_type": "text"
      },
      "source": [
        "<a href=\"https://colab.research.google.com/github/karimgharaibeh/IBMcourse/blob/main/DataScienceEcosystem.ipynb\" target=\"_parent\"><img src=\"https://colab.research.google.com/assets/colab-badge.svg\" alt=\"Open In Colab\"/></a>"
      ]
    },
    {
      "cell_type": "markdown",
      "source": [
        "# Data Science Tools and Ecosystem\n"
      ],
      "metadata": {
        "id": "309sRjgR1Eh8"
      }
    },
    {
      "cell_type": "markdown",
      "source": [
        "In this notebook, Data Science Tools and Ecosystem are summarized."
      ],
      "metadata": {
        "id": "tBMdPcqj1ZCW"
      }
    },
    {
      "cell_type": "markdown",
      "source": [
        "**Objectives:**\n",
        "* Showcase usage of jupyter notebook\n",
        "* Showcase ability to markdown and format text in notebook cells\n",
        "* List popular languages data scientists use\n",
        "* List commonly used libraries used by data scientists\n",
        "* List common data science development tools\n",
        "* Showcase performing calculations in python"
      ],
      "metadata": {
        "id": "BhimTfpi6ebp"
      }
    },
    {
      "cell_type": "markdown",
      "source": [
        "Some of the popular languages that Data Scientists use are:\n",
        "\n",
        "1.   python\n",
        "2.   List item\n",
        "3.   R\n",
        "4.   SQL\n",
        "5.   Scala\n",
        "\n"
      ],
      "metadata": {
        "id": "DVFMCK4k1vME"
      }
    },
    {
      "cell_type": "markdown",
      "source": [
        "Some of the commonly used libraries used by Data Scientists include:\n",
        "\n",
        "\n",
        "1.   scikit-learn (pthon)\n",
        "2.  pytorch (python)\n",
        "3.  keras (python)\n",
        "4.   caret (R)\n",
        "\n"
      ],
      "metadata": {
        "id": "XYYnFMx918L1"
      }
    },
    {
      "cell_type": "markdown",
      "source": [
        "| **Data Science Tools** |\n",
        "| --- |\n",
        "| Jupyter Notebooks |\n",
        "| JupyterLabs |\n",
        "| RStudio |\n",
        "| Zeppelin Notebooks |\n",
        "\n"
      ],
      "metadata": {
        "id": "dnkj8U7Q1DWz"
      }
    },
    {
      "cell_type": "markdown",
      "source": [
        "### Below are a few examples of evaluating arithmetic expressions in Python"
      ],
      "metadata": {
        "id": "TGMBX5tP46aF"
      }
    },
    {
      "cell_type": "code",
      "source": [
        "#This a simple arithmetic expression to mutiply then add integers\n",
        "(3*4)+5"
      ],
      "metadata": {
        "colab": {
          "base_uri": "https://localhost:8080/"
        },
        "id": "J3GLyQkW5Ec0",
        "outputId": "3ee303bc-0983-4565-f1d9-0ca8576e2fd4"
      },
      "execution_count": 6,
      "outputs": [
        {
          "output_type": "execute_result",
          "data": {
            "text/plain": [
              "17"
            ]
          },
          "metadata": {},
          "execution_count": 6
        }
      ]
    },
    {
      "cell_type": "code",
      "source": [
        "# This will convert 200 minutes to hours by diving by 60\n",
        "200/60"
      ],
      "metadata": {
        "colab": {
          "base_uri": "https://localhost:8080/"
        },
        "id": "fV7spytL5NR2",
        "outputId": "6367ce72-0aaf-489e-89e8-02d9525cac88"
      },
      "execution_count": 7,
      "outputs": [
        {
          "output_type": "execute_result",
          "data": {
            "text/plain": [
              "3.3333333333333335"
            ]
          },
          "metadata": {},
          "execution_count": 7
        }
      ]
    },
    {
      "cell_type": "markdown",
      "source": [
        "## Author: \n",
        "Karim Gharaibeh"
      ],
      "metadata": {
        "id": "pfPGElRT51ri"
      }
    }
  ]
}